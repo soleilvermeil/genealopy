{
 "cells": [
  {
   "attachments": {},
   "cell_type": "markdown",
   "metadata": {},
   "source": [
    "First, we need to import the module `genealopy`. In this example, since `genealopy.py` is located in the parent folder of the current file, we need to use `sys.path.append(..)` before calling `import genealopy`."
   ]
  },
  {
   "cell_type": "code",
   "execution_count": 1,
   "metadata": {},
   "outputs": [],
   "source": [
    "import sys\n",
    "sys.path.append('../..')\n",
    "import genealopy as gp"
   ]
  },
  {
   "attachments": {},
   "cell_type": "markdown",
   "metadata": {},
   "source": [
    "Now we create a new database, which is an object that will hold all the information about individuals and families. Let's call it `dynasty`"
   ]
  },
  {
   "cell_type": "code",
   "execution_count": 2,
   "metadata": {},
   "outputs": [],
   "source": [
    "dynasty = gp.Genealogy()"
   ]
  },
  {
   "attachments": {},
   "cell_type": "markdown",
   "metadata": {},
   "source": [
    "We can now add individuals and relations (also known as \"families\") to our database. Note that each time we add an individual or a family, the method returns its ID."
   ]
  },
  {
   "cell_type": "code",
   "execution_count": 3,
   "metadata": {},
   "outputs": [],
   "source": [
    "child_id = dynasty.create_individual(first_name=\"Naruto\", last_name=\"Uzumaki\")\n",
    "father_id = dynasty.create_individual(first_name=\"Minato\", last_name=\"Namikaze\")\n",
    "mother_id = dynasty.create_individual(first_name=\"Kushina\", last_name=\"Uzumaki\")\n",
    "\n",
    "naruto_family_id = dynasty.create_family()\n",
    "\n",
    "dynasty.add_individual_to_family(individual_id=child_id, family_id=naruto_family_id, role=\"child\")\n",
    "dynasty.add_individual_to_family(individual_id=father_id, family_id=naruto_family_id, role=\"husband\")\n",
    "dynasty.add_individual_to_family(individual_id=mother_id, family_id=naruto_family_id, role=\"wife\")"
   ]
  },
  {
   "attachments": {},
   "cell_type": "markdown",
   "metadata": {},
   "source": [
    "It can be a little cumbersome to add individuals, then families, and then combining both. While we are working on improving the workflow, there already exist some methods to optimize it, where we create families and directly specify the individuals that are part of it."
   ]
  },
  {
   "cell_type": "code",
   "execution_count": 4,
   "metadata": {},
   "outputs": [],
   "source": [
    "grandson_id = dynasty.create_individual(first_name=\"Boruto\", last_name=\"Uzumaki\")\n",
    "granddaughter_id = dynasty.create_individual(first_name=\"Himawari\", last_name=\"Uzumaki\")\n",
    "\n",
    "_ = dynasty.create_family(husband_id=child_id, wife_id=None, children_ids=[grandson_id, granddaughter_id])"
   ]
  },
  {
   "attachments": {},
   "cell_type": "markdown",
   "metadata": {},
   "source": [
    "Once we're done, we can export the database in various formats. For the moment, two types of export are supported: GEDCOM files (which can then be imported in any genealogy software), and Mermaid diagrams (which is a new standard for displaying diagrams in markdown texts). Each method returns a string, which can then be freely written to a file. In the following, we just print the results."
   ]
  },
  {
   "cell_type": "code",
   "execution_count": 5,
   "metadata": {},
   "outputs": [
    {
     "name": "stdout",
     "output_type": "stream",
     "text": [
      "graph TD\n",
      "78cf93c4[Naruto Uzumaki]\n",
      "76b3e27a[Minato Namikaze]\n",
      "1fdf8c07[Kushina Uzumaki]\n",
      "872bafae[Boruto Uzumaki]\n",
      "1d798bf1[Himawari Uzumaki]\n",
      "abca6080[ ]\n",
      "8df172b8[ ]\n",
      "78cf93c4 --> 8df172b8\n",
      "76b3e27a --> abca6080\n",
      "1fdf8c07 --> abca6080\n",
      "abca6080 --> 78cf93c4\n",
      "8df172b8 --> 872bafae\n",
      "8df172b8 --> 1d798bf1\n",
      "\n"
     ]
    }
   ],
   "source": [
    "mermaid = dynasty.mermaid()\n",
    "print(mermaid)"
   ]
  },
  {
   "cell_type": "code",
   "execution_count": 6,
   "metadata": {},
   "outputs": [
    {
     "name": "stdout",
     "output_type": "stream",
     "text": [
      "0 HEAD\n",
      "1 SOUR PAF\n",
      "2 NAME Personal Ancestral File\n",
      "2 VERS 5.0\n",
      "1 DATE 30 NOV 2000\n",
      "1 GEDC\n",
      "2 VERS 5.5\n",
      "2 FORM LINEAGE-LINKED\n",
      "1 CHAR ANSEL\n",
      "1 SUBM @U1@\n",
      "0 @78cf93c4@ INDI\n",
      "1 NAME Naruto /Uzumaki/\n",
      "1 SEX None\n",
      "1 FAMS @8df172b8@\n",
      "1 FAMC @abca6080@\n",
      "0 @76b3e27a@ INDI\n",
      "1 NAME Minato /Namikaze/\n",
      "1 SEX None\n",
      "1 FAMS @abca6080@\n",
      "0 @1fdf8c07@ INDI\n",
      "1 NAME Kushina /Uzumaki/\n",
      "1 SEX None\n",
      "1 FAMS @abca6080@\n",
      "0 @872bafae@ INDI\n",
      "1 NAME Boruto /Uzumaki/\n",
      "1 SEX None\n",
      "1 FAMC @8df172b8@\n",
      "0 @1d798bf1@ INDI\n",
      "1 NAME Himawari /Uzumaki/\n",
      "1 SEX None\n",
      "1 FAMC @8df172b8@\n",
      "0 @abca6080@ FAM\n",
      "1 HUSB @76b3e27a@\n",
      "1 WIFE @1fdf8c07@\n",
      "1 CHIL @78cf93c4@\n",
      "0 @8df172b8@ FAM\n",
      "1 HUSB @78cf93c4@\n",
      "1 CHIL @872bafae@\n",
      "1 CHIL @1d798bf1@\n",
      "0 @U1@ SUBM\n",
      "1 NAME Submitter\n",
      "0 TRLR\n"
     ]
    }
   ],
   "source": [
    "gedcom = dynasty.gedcom()\n",
    "print(gedcom)"
   ]
  }
 ],
 "metadata": {
  "kernelspec": {
   "display_name": "base",
   "language": "python",
   "name": "python3"
  },
  "language_info": {
   "codemirror_mode": {
    "name": "ipython",
    "version": 3
   },
   "file_extension": ".py",
   "mimetype": "text/x-python",
   "name": "python",
   "nbconvert_exporter": "python",
   "pygments_lexer": "ipython3",
   "version": "3.9.13"
  },
  "orig_nbformat": 4
 },
 "nbformat": 4,
 "nbformat_minor": 2
}
